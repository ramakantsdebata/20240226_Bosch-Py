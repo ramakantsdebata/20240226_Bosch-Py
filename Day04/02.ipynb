{
 "cells": [
  {
   "cell_type": "markdown",
   "metadata": {},
   "source": [
    "### Collections\n",
    "* Immutables\n",
    "    * Numbers\n",
    "    * Strings\n",
    "    * Tuple - ()\n",
    "    * Frozen Set - frozenset()\n",
    "* Mutables\n",
    "    * List - []\n",
    "    * Set - {}\n",
    "    * Dictionary - {a:b}\n",
    "\n",
    "Classes  - As per user design, can be either"
   ]
  }
 ],
 "metadata": {
  "language_info": {
   "name": "python"
  }
 },
 "nbformat": 4,
 "nbformat_minor": 2
}
